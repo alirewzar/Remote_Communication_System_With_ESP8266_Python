{
 "cells": [
  {
   "cell_type": "code",
   "execution_count": 3,
   "id": "9c325a82",
   "metadata": {},
   "outputs": [
    {
     "ename": "ModuleNotFoundError",
     "evalue": "No module named 'kivy.app'; 'kivy' is not a package",
     "output_type": "error",
     "traceback": [
      "\u001b[1;31m---------------------------------------------------------------------------\u001b[0m",
      "\u001b[1;31mModuleNotFoundError\u001b[0m                       Traceback (most recent call last)",
      "Cell \u001b[1;32mIn[3], line 2\u001b[0m\n\u001b[0;32m      1\u001b[0m \u001b[38;5;66;03m# import kivy module\u001b[39;00m\n\u001b[1;32m----> 2\u001b[0m \u001b[38;5;28;01mimport\u001b[39;00m \u001b[38;5;21;01mkivy\u001b[39;00m\n\u001b[0;32m      4\u001b[0m \u001b[38;5;66;03m# this restrict the kivy version i.e\u001b[39;00m\n\u001b[0;32m      5\u001b[0m \u001b[38;5;66;03m# below this kivy version you cannot\u001b[39;00m\n\u001b[0;32m      6\u001b[0m \u001b[38;5;66;03m# use the app or software\u001b[39;00m\n\u001b[0;32m      7\u001b[0m kivy\u001b[38;5;241m.\u001b[39mrequire(\u001b[38;5;124m\"\u001b[39m\u001b[38;5;124m1.9.1\u001b[39m\u001b[38;5;124m\"\u001b[39m)\n",
      "File \u001b[1;32mD:\\work\\esp8266\\make esp as server\\python\\kivy.py:2\u001b[0m\n\u001b[1;32m----> 2\u001b[0m \u001b[38;5;28;01mfrom\u001b[39;00m \u001b[38;5;21;01mkivy\u001b[39;00m\u001b[38;5;21;01m.\u001b[39;00m\u001b[38;5;21;01mapp\u001b[39;00m \u001b[38;5;28;01mimport\u001b[39;00m App\n\u001b[0;32m      3\u001b[0m \u001b[38;5;28;01mfrom\u001b[39;00m \u001b[38;5;21;01mkivy\u001b[39;00m\u001b[38;5;21;01m.\u001b[39;00m\u001b[38;5;21;01mlang\u001b[39;00m \u001b[38;5;28;01mimport\u001b[39;00m Builder\n\u001b[0;32m      5\u001b[0m kv \u001b[38;5;241m=\u001b[39m \u001b[38;5;124m'''\u001b[39m\n\u001b[0;32m      6\u001b[0m \u001b[38;5;124mBoxLayout:\u001b[39m\n\u001b[0;32m      7\u001b[0m \u001b[38;5;124m    orientation: \u001b[39m\u001b[38;5;124m'\u001b[39m\u001b[38;5;124mvertical\u001b[39m\u001b[38;5;124m'\u001b[39m\n\u001b[1;32m   (...)\u001b[0m\n\u001b[0;32m     64\u001b[0m \n\u001b[0;32m     65\u001b[0m \u001b[38;5;124m'''\u001b[39m\n",
      "\u001b[1;31mModuleNotFoundError\u001b[0m: No module named 'kivy.app'; 'kivy' is not a package"
     ]
    }
   ],
   "source": [
    "# import kivy module\n",
    "import kivy\n",
    "\n",
    "# this restrict the kivy version i.e\n",
    "# below this kivy version you cannot\n",
    "# use the app or software\n",
    "kivy.require(\"1.9.1\")\n",
    "\n",
    "# base Class of your App inherits from the App class.\n",
    "# app:always refers to the instance of your application\n",
    "from kivy.app import App\n",
    "\n",
    "# creates the button in kivy\n",
    "# if not imported shows the error\n",
    "from kivy.uix.button import Button\n",
    "\n",
    "# class in which we are creating the button\n",
    "class ButtonApp(App):\n",
    "\t\n",
    "\tdef build(self):\n",
    "\t\t\n",
    "\t\tbtn = Button(text =\"Push Me !\")\n",
    "\t\treturn btn\n",
    "\n",
    "# creating the object root for ButtonApp() class\n",
    "root = ButtonApp()\n",
    "\n",
    "# run function runs the whole program\n",
    "# i.e run() method which calls the\n",
    "# target function passed to the constructor.\n",
    "root.run()\n"
   ]
  },
  {
   "cell_type": "code",
   "execution_count": null,
   "id": "c8a5af1c",
   "metadata": {},
   "outputs": [],
   "source": []
  }
 ],
 "metadata": {
  "kernelspec": {
   "display_name": "Python 3 (ipykernel)",
   "language": "python",
   "name": "python3"
  },
  "language_info": {
   "codemirror_mode": {
    "name": "ipython",
    "version": 3
   },
   "file_extension": ".py",
   "mimetype": "text/x-python",
   "name": "python",
   "nbconvert_exporter": "python",
   "pygments_lexer": "ipython3",
   "version": "3.11.4"
  }
 },
 "nbformat": 4,
 "nbformat_minor": 5
}
